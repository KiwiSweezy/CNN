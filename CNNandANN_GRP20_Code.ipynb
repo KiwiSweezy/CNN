{
  "nbformat": 4,
  "nbformat_minor": 0,
  "metadata": {
    "colab": {
      "provenance": []
    },
    "kernelspec": {
      "name": "python3",
      "display_name": "Python 3"
    },
    "language_info": {
      "name": "python"
    }
  },
  "cells": [
    {
      "cell_type": "code",
      "execution_count": null,
      "metadata": {
        "id": "0YsrWTh93fxX"
      },
      "outputs": [],
      "source": [
        "import torch\n",
        "import torchvision\n",
        "import torchvision.transforms as transforms\n"
      ]
    },
    {
      "cell_type": "code",
      "source": [
        "# Define data transformations\n",
        "transform = transforms.Compose([\n",
        "    transforms.ToTensor(),\n",
        "    transforms.Normalize((0.5, 0.5, 0.5), (0.5, 0.5, 0.5))\n",
        "])\n",
        "\n",
        "# Load training dataset\n",
        "trainset = torchvision.datasets.CIFAR10(root='./data', train=True, download=True, transform=transform)\n",
        "trainloader = torch.utils.data.DataLoader(trainset, batch_size=4, shuffle=True, num_workers=2)\n",
        "\n",
        "# Load testing dataset\n",
        "testset = torchvision.datasets.CIFAR10(root='./data', train=False, download=True, transform=transform)\n",
        "testloader = torch.utils.data.DataLoader(testset, batch_size=4, shuffle=False, num_workers=2)\n",
        "\n",
        "# Define classes\n",
        "classes = ('plane', 'car', 'bird', 'cat', 'deer', 'dog', 'frog', 'horse', 'ship', 'truck')\n"
      ],
      "metadata": {
        "colab": {
          "base_uri": "https://localhost:8080/"
        },
        "id": "EhmjZWE03zIs",
        "outputId": "f8addd09-1695-43ae-f0c4-93645fcede96"
      },
      "execution_count": null,
      "outputs": [
        {
          "output_type": "stream",
          "name": "stdout",
          "text": [
            "Downloading https://www.cs.toronto.edu/~kriz/cifar-10-python.tar.gz to ./data/cifar-10-python.tar.gz\n"
          ]
        },
        {
          "output_type": "stream",
          "name": "stderr",
          "text": [
            "100%|██████████| 170498071/170498071 [00:01<00:00, 97305572.57it/s] \n"
          ]
        },
        {
          "output_type": "stream",
          "name": "stdout",
          "text": [
            "Extracting ./data/cifar-10-python.tar.gz to ./data\n",
            "Files already downloaded and verified\n"
          ]
        }
      ]
    },
    {
      "cell_type": "code",
      "source": [
        "import torch.nn as nn\n",
        "\n",
        "class SimpleCNN(nn.Module):\n",
        "    def __init__(self):\n",
        "        super(SimpleCNN, self).__init__()\n",
        "        # Convolutional layers\n",
        "        self.conv1 = nn.Conv2d(3, 16, kernel_size=3, padding=1)\n",
        "        self.conv2 = nn.Conv2d(16, 32, kernel_size=3, padding=1)\n",
        "        # Max pooling layer\n",
        "        self.pool = nn.MaxPool2d(2, 2)\n",
        "        # Fully connected layers\n",
        "        self.fc1 = nn.Linear(32 * 8 * 8, 128)\n",
        "        self.fc2 = nn.Linear(128, 10)\n",
        "\n",
        "    def forward(self, x):\n",
        "        x = self.pool(nn.functional.relu(self.conv1(x)))\n",
        "        x = self.pool(nn.functional.relu(self.conv2(x)))\n",
        "        x = x.view(-1, 32 * 8 * 8)  # Flatten the feature maps\n",
        "        x = nn.functional.relu(self.fc1(x))\n",
        "        x = self.fc2(x)\n",
        "        return x\n",
        "\n",
        "# Instantiate the CNN\n",
        "cnn_model = SimpleCNN()\n"
      ],
      "metadata": {
        "id": "KaSNqnf638QZ"
      },
      "execution_count": null,
      "outputs": []
    },
    {
      "cell_type": "code",
      "source": [
        "import torch.optim as optim\n",
        "import matplotlib.pyplot as plt\n",
        "import numpy as np\n",
        "# Define the loss function and optimizer\n",
        "criterion_cnn = nn.CrossEntropyLoss()\n",
        "optimizer_cnn = optim.SGD(cnn_model.parameters(), lr=0.001, momentum=0.9)\n",
        "\n",
        "# Number of training epochs\n",
        "epochs = 5\n",
        "\n",
        "train_loss_history = []\n",
        "\n",
        "# Training loop\n",
        "for epoch in range(epochs):\n",
        "    running_loss = 0.0\n",
        "    for i, data in enumerate(trainloader, 0):\n",
        "        inputs, labels = data\n",
        "\n",
        "        # Zero the parameter gradients\n",
        "        optimizer_cnn.zero_grad()\n",
        "\n",
        "        # Forward pass\n",
        "        outputs = cnn_model(inputs)\n",
        "        loss = criterion_cnn(outputs, labels)\n",
        "\n",
        "        # Backward pass and optimization\n",
        "        loss.backward()\n",
        "        optimizer_cnn.step()\n",
        "\n",
        "        # Print statistics\n",
        "        running_loss += loss.item()\n",
        "        if i % 2000 == 1999:  # Print every 2000 mini-batches\n",
        "            print('[%d, %5d] loss: %.3f' %\n",
        "                  (epoch + 1, i + 1, running_loss / 2000))\n",
        "            train_loss_history.append(running_loss / 2000)\n",
        "            running_loss = 0.0\n",
        "\n",
        "\n"
      ],
      "metadata": {
        "colab": {
          "base_uri": "https://localhost:8080/"
        },
        "id": "zsXNTRoT4Isw",
        "outputId": "759d1730-c638-4eaf-d7dc-2cd9fdcae40b"
      },
      "execution_count": null,
      "outputs": [
        {
          "output_type": "stream",
          "name": "stdout",
          "text": [
            "[1,  2000] loss: 0.296\n",
            "[1,  4000] loss: 0.324\n",
            "[1,  6000] loss: 0.357\n",
            "[1,  8000] loss: 0.384\n",
            "[1, 10000] loss: 0.392\n",
            "[1, 12000] loss: 0.414\n",
            "[2,  2000] loss: 0.224\n",
            "[2,  4000] loss: 0.252\n",
            "[2,  6000] loss: 0.300\n",
            "[2,  8000] loss: 0.321\n",
            "[2, 10000] loss: 0.335\n",
            "[2, 12000] loss: 0.349\n",
            "[3,  2000] loss: 0.187\n",
            "[3,  4000] loss: 0.231\n",
            "[3,  6000] loss: 0.250\n",
            "[3,  8000] loss: 0.262\n",
            "[3, 10000] loss: 0.289\n",
            "[3, 12000] loss: 0.321\n",
            "[4,  2000] loss: 0.166\n",
            "[4,  4000] loss: 0.197\n",
            "[4,  6000] loss: 0.211\n",
            "[4,  8000] loss: 0.226\n",
            "[4, 10000] loss: 0.238\n",
            "[4, 12000] loss: 0.291\n",
            "[5,  2000] loss: 0.149\n",
            "[5,  4000] loss: 0.166\n",
            "[5,  6000] loss: 0.176\n",
            "[5,  8000] loss: 0.239\n",
            "[5, 10000] loss: 0.211\n",
            "[5, 12000] loss: 0.245\n"
          ]
        }
      ]
    },
    {
      "cell_type": "code",
      "source": [
        "# Plotting the training loss if there is data to plot\n",
        "if train_loss_history:\n",
        "    plt.plot(np.arange(1, len(train_loss_history) + 1), train_loss_history, label='Training Loss')\n",
        "    plt.title('Training Loss over Epochs')\n",
        "    plt.xlabel('Epochs')\n",
        "    plt.ylabel('Loss')\n",
        "    plt.legend()\n",
        "    plt.show()\n",
        "else:\n",
        "    print(\"No training loss data to plot.\")\n",
        "\n",
        "print('Finished Training')"
      ],
      "metadata": {
        "colab": {
          "base_uri": "https://localhost:8080/",
          "height": 489
        },
        "id": "XyMKpL7-7zyB",
        "outputId": "faaaf538-501d-41b7-aef3-aeeab38ede3c"
      },
      "execution_count": null,
      "outputs": [
        {
          "output_type": "display_data",
          "data": {
            "text/plain": [
              "<Figure size 640x480 with 1 Axes>"
            ],
            "image/png": "[encoded data removed]"
          },
          "metadata": {}
        },
        {
          "output_type": "stream",
          "name": "stdout",
          "text": [
            "Finished Training\n"
          ]
        }
      ]
    },
    {
      "cell_type": "code",
      "source": [
        "import torch\n",
        "import torch.nn as nn\n",
        "import torch.optim as optim\n",
        "from torch.utils.data import DataLoader\n",
        "from torchvision import datasets, transforms\n",
        "\n",
        "# Set random seed for reproducibility\n",
        "torch.manual_seed(26)\n",
        "\n",
        "# Define transformations for the data\n",
        "transform = transforms.Compose([\n",
        "    transforms.ToTensor(),\n",
        "    transforms.Normalize((0.5, 0.5, 0.5), (0.5, 0.5, 0.5))\n",
        "])\n",
        "\n",
        "# CIFAR-10 dataset\n",
        "train_dataset = datasets.CIFAR10(root='./data', train=True, download=True, transform=transform)\n",
        "test_dataset = datasets.CIFAR10(root='./data', train=False, download=True, transform=transform)\n",
        "batch_size = 64\n",
        "train_loader = DataLoader(dataset=train_dataset, batch_size=batch_size, shuffle=True)\n",
        "test_loader = DataLoader(dataset=test_dataset, batch_size=batch_size, shuffle=False)\n",
        "\n",
        "# Define the neural network model\n",
        "class ANN(nn.Module):\n",
        "    def __init__(self):\n",
        "        super(ANN, self).__init__()\n",
        "        #connection layers\n",
        "        #the first layer assume RGB with input size of 32x32x32 which would give an out put size of 256\n",
        "        self.fc1 = nn.Linear(32 * 32 * 3, 256)  # Input size 256\n",
        "        self.fc2 = nn.Linear(256, 128)          # Input size: 256, Output size: 128\n",
        "        #output size of 10 just set as we are using that many classes for classification step\n",
        "        self.fc3 = nn.Linear(128, 10)          #Input size: 128 output size: 10\n",
        "        self.relu = nn.ReLU()\n",
        "\n",
        "    def forward(self, x):\n",
        "        #format the input by converting the 3d image to 1d\n",
        "        x = x.view(-1, 32 * 32 * 3)\n",
        "        #apply ReLU, activation function forward pass\n",
        "        x = self.relu(self.fc1(x))\n",
        "        x = self.relu(self.fc2(x))\n",
        "        x = self.fc3(x)\n",
        "        return x\n",
        "\n",
        "\n",
        "model = ANN()\n",
        "\n",
        "# Loss function and optimizer functions\n",
        "\n",
        "criterion = nn.CrossEntropyLoss()\n",
        "#optimizer in PyTorch uses algorithms to upate the weights and biases of the NN\n",
        "optimize = optim.SGD(model.parameters(), lr=0.01, momentum=0.9)\n",
        "\n",
        "# Training the model on 10 passes 1 epoch consists of a forward pass. backward pass and then we update the parameters\n",
        "epochs = 10\n",
        "\n",
        "for epoch in range(epochs):\n",
        "    for inputs, labels in train_loader:\n",
        "        #optimize each gradiant\n",
        "        optimize.zero_grad()\n",
        "        outputs = model(inputs)\n",
        "        #check the loss and then update the optimizer using backpropagation \"backward()\"\n",
        "        loss = criterion(outputs, labels)\n",
        "        loss.backward()\n",
        "        optimize.step()\n",
        "\n",
        "    print(f'Epoch [{epoch + 1}/{epochs}], Loss: {loss.item()}')\n",
        "\n",
        "# Evaluate the model using our test set\n",
        "model.eval()\n",
        "correct = 0\n",
        "total = 0\n",
        "#using no gradiant as its more efficient\n",
        "with torch.no_grad():\n",
        "    for inputs, labels in test_loader:\n",
        "        outputs = model(inputs)\n",
        "        #make predictions on the test data\n",
        "        #if a predicted label is within the true labels then we can store it in the correct variable.\n",
        "        _, predicted = torch.max(outputs.data, 1)\n",
        "        total += labels.size(0)\n",
        "        correct += (predicted == labels).sum().item()\n",
        "\n",
        "accuracy = correct / total\n",
        "print(f'Test Accuracy: {accuracy * 100:.2f}%')"
      ],
      "metadata": {
        "id": "1-zgEkqJft9n"
      },
      "execution_count": null,
      "outputs": []
    }
  ]
}